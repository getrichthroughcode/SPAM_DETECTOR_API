{
 "cells": [
  {
   "cell_type": "code",
   "execution_count": 1,
   "metadata": {},
   "outputs": [],
   "source": [
    "import os\n",
    "import tarfile\n",
    "import urllib.request"
   ]
  },
  {
   "cell_type": "code",
   "execution_count": 3,
   "metadata": {},
   "outputs": [],
   "source": [
    "DOWNLOAD_ROOT = \"http://spamassassin.apache.org/old/publiccorpus/\"\n",
    "HAM_URL = DOWNLOAD_ROOT + \"20030228_easy_ham.tar.bz2\"\n",
    "SPAM_URL = DOWNLOAD_ROOT + \"20030228_spam.tar.bz2\"\n",
    "SPAM_PATH = os.path.join(\"data\", \"spam\")\n",
    "\n",
    "def fetch_spam_data(spam_url=SPAM_URL, spam_path=SPAM_PATH):\n",
    "    if not os.path.isdir(spam_path):\n",
    "        os.makedirs(spam_path)\n",
    "    for filename, url in ((\"ham.tar.bz2\", HAM_URL), (\"spam.tar.bz2\", SPAM_URL)):\n",
    "        path = os.path.join(spam_path, filename)\n",
    "        if not os.path.isfile(path):\n",
    "            urllib.request.urlretrieve(url, path)\n",
    "        tar_bz2_file = tarfile.open(path)\n",
    "        tar_bz2_file.extractall(path=SPAM_PATH)\n",
    "        tar_bz2_file.close()"
   ]
  },
  {
   "cell_type": "code",
   "execution_count": 4,
   "metadata": {},
   "outputs": [
    {
     "name": "stderr",
     "output_type": "stream",
     "text": [
      "/var/folders/3c/xpgcv1_112x3cwxp4yqmqbtw0000gn/T/ipykernel_82789/4277348425.py:14: DeprecationWarning: Python 3.14 will, by default, filter extracted tar archives and reject files or modify their metadata. Use the filter argument to control this behavior.\n",
      "  tar_bz2_file.extractall(path=SPAM_PATH)\n"
     ]
    }
   ],
   "source": [
    "fetch_spam_data()\n"
   ]
  },
  {
   "cell_type": "markdown",
   "metadata": {},
   "source": [
    "Next, let's load all the emails:"
   ]
  },
  {
   "cell_type": "code",
   "execution_count": 5,
   "metadata": {},
   "outputs": [],
   "source": [
    "S_PATH = \"../data\"\n",
    "H_PATH = \"../data\"\n",
    "\n",
    "HAM_DIR = os.path.join(H_PATH, \"easy_ham\")\n",
    "SPAM_DIR = os.path.join(S_PATH, \"spam\")\n",
    "ham_filenames = [name for name in sorted(os.listdir(HAM_DIR)) if len(name) > 20]\n",
    "spam_filenames = [name for name in sorted(os.listdir(SPAM_DIR)) if len(name) > 20]"
   ]
  },
  {
   "cell_type": "code",
   "execution_count": 6,
   "metadata": {},
   "outputs": [
    {
     "data": {
      "text/plain": [
       "2500"
      ]
     },
     "execution_count": 6,
     "metadata": {},
     "output_type": "execute_result"
    }
   ],
   "source": [
    "len(ham_filenames)"
   ]
  },
  {
   "cell_type": "code",
   "execution_count": 7,
   "metadata": {},
   "outputs": [
    {
     "data": {
      "text/plain": [
       "500"
      ]
     },
     "execution_count": 7,
     "metadata": {},
     "output_type": "execute_result"
    }
   ],
   "source": [
    "len(spam_filenames)"
   ]
  },
  {
   "cell_type": "markdown",
   "metadata": {},
   "source": [
    "We can use Python's `email` module to parse these emails (this handles headers, encoding, and so on):"
   ]
  },
  {
   "cell_type": "code",
   "execution_count": 8,
   "metadata": {},
   "outputs": [],
   "source": [
    "import email\n",
    "import email.parser\n",
    "import email.policy\n",
    "\n",
    "def load_email(is_spam, filename, spam_path=S_PATH):\n",
    "\n",
    "    directory = \"spam\" if is_spam else \"easy_ham\"\n",
    "\n",
    "    with open (os.path.join(S_PATH, directory, filename), \"rb\") as f:\n",
    "        return email.parser.BytesParser(policy=email.policy.default).parse(f)\n",
    "    \n"
   ]
  },
  {
   "cell_type": "code",
   "execution_count": 9,
   "metadata": {},
   "outputs": [],
   "source": [
    "ham_emails = [load_email(is_spam=False, filename=name) for name in ham_filenames]\n",
    "spam_emails = [load_email(is_spam=True, filename=name) for name in spam_filenames]"
   ]
  },
  {
   "cell_type": "code",
   "execution_count": 10,
   "metadata": {},
   "outputs": [
    {
     "name": "stdout",
     "output_type": "stream",
     "text": [
      "Martin A posted:\n",
      "Tassos Papadopoulos, the Greek sculptor behind the plan, judged that the\n",
      " limestone of Mount Kerdylio, 70 miles east of Salonika and not far from the\n",
      " Mount Athos monastic community, was ideal for the patriotic sculpture. \n",
      " \n",
      " As well as Alexander's granite features, 240 ft high and 170 ft wide, a\n",
      " museum, a restored amphitheatre and car park for admiring crowds are\n",
      "planned\n",
      "---------------------\n",
      "So is this mountain limestone or granite?\n",
      "If it's limestone, it'll weather pretty fast.\n",
      "\n",
      "------------------------ Yahoo! Groups Sponsor ---------------------~-->\n",
      "4 DVDs Free +s&p Join Now\n",
      "http://us.click.yahoo.com/pt6YBB/NXiEAA/mG3HAA/7gSolB/TM\n",
      "---------------------------------------------------------------------~->\n",
      "\n",
      "To unsubscribe from this group, send an email to:\n",
      "forteana-unsubscribe@egroups.com\n",
      "\n",
      " \n",
      "\n",
      "Your use of Yahoo! Groups is subject to http://docs.yahoo.com/info/terms/\n"
     ]
    }
   ],
   "source": [
    "print(ham_emails[1].get_content().strip())"
   ]
  },
  {
   "cell_type": "code",
   "execution_count": 11,
   "metadata": {},
   "outputs": [
    {
     "name": "stdout",
     "output_type": "stream",
     "text": [
      "from http://www.arstechnica.com/\n",
      "\n",
      "\"There has mostly been talk thus far and little action, but the Department\n",
      "of Justice says it may be ready to file criminal lawsuits against\n",
      "individuals [1] who distribute or receive unauthorized copyrighted\n",
      "material over the Internet. Deputy Assistant Attorney General John Malcolm believes\n",
      "that \"criminal prosecutions of copyright offenders are now necessary to\n",
      "preserve the viability of America's content industries.\" Malcolm also\n",
      "believes that people who trade copyrighted material think they are\n",
      "participating in a legal activity. I certainly think people who download\n",
      "copyrighted works understand that such distribution--barring provisions\n",
      "such as fair use--is not authorized, and it is not surprising to see\n",
      "businesses continue to look for means to discourage distribution of\n",
      "copyrighted works.\n",
      "\n",
      "\n",
      "\"Some prosecutions that make that clear could be very helpful...I think\n",
      "they would think twice if they thought there was a risk of criminal\n",
      "prosecution,\" said [RIAA President Cary] Sherman, who was on the same\n",
      "conference panel.\n",
      "\n",
      "I'm not too confident that lawsuits would have the effect Sherman is\n",
      "hoping for. Although infrequent, there have already been civil suits or\n",
      "warnings issued to private individuals, and they have served as minor\n",
      "deterrents to the file-sharing community at large. Criminal lawsuits\n",
      "carrying with them the possibility of prison sentences may generate\n",
      "further animosity against groups such as the RIAA and may be difficult to\n",
      "initiate because of the \"schooling\" effect of millions of systems\n",
      "participating in file sharing. Only servers would seem to stand out from\n",
      "the crowd.\n",
      "\n",
      "The article cites the No Electronic Theft (NET) Act [2], which defines\n",
      "illegal  activity and maximum penalties for copyright infringement:\n",
      "\n",
      "\n",
      "Criminal infringement: Any person who infringes a copyright willfully for\n",
      "purposes of commercial advantage or private financial gain, or by the\n",
      "reproduction or distribution, including by electronic means, during any\n",
      "180-day period, of 1 or more copies or phonorecords of 1 or more\n",
      "copyrighted works, which have a total retail value of more than $1,000....\n",
      "For purposes of this subsection, evidence of reproduction or distribution\n",
      "of a copyrighted work, by itself, shall not be sufficient to establish\n",
      "willful infringement.\n",
      "...\n",
      "The term \"financial gain\" includes receipt, or expectation of receipt, of\n",
      "anything of value, including the receipt of other copyrighted works.\n",
      "\n",
      "\n",
      "Therefore, receipt of a work of value would be defined as \"financial gain\"\n",
      "even if no money is involved. The NET Act excerpt does not clarify how the\n",
      "value of a work is determined; an album or movie could be worth only $15\n",
      "to millions of dollars depending on whether the value is assessed from the\n",
      "perspective of the consumer or copyright holder.\n",
      "\n",
      "The statute of limitations:\n",
      "\n",
      "\n",
      "507. Limitations on actions\n",
      "\n",
      "(a) Criminal Proceedings.--No criminal proceeding shall be maintained\n",
      "under the provisions of this title unless it is commenced within five\n",
      "years after the cause of action arose.\n",
      "\n",
      "(b) Civil Actions.--No civil action shall be maintained under the\n",
      "provisions of this title unless it is commenced within three years after\n",
      "the claim accrued.\n",
      "\n",
      "The penalties are too extensive to list here, but they can be found in\n",
      "Section 2319: Criminal infringement of a copyright. In general, first-time\n",
      "criminal offenses will carry a maximum prison sentence of 1 year.\n",
      "\n",
      "I'm still not sure where the DOJ would start in choosing people to\n",
      "prosecute because of the aforementioned \"schooling\" effect, but my guess\n",
      "would be that, just like speeding, primarily the most prominent\n",
      "individuals who operate large servers or transfer the most data will be\n",
      "targeted in order to discourage more recreational file sharers. Thanks to\n",
      "MonaLisaOverdrive for pointing out this story.\n",
      "\"\n",
      "\n",
      "[1] http://news.com.com/2100-1023-954591.html?tag=fd_top\n",
      "[2] http://www.usdoj.gov/criminal/cybercrime/17-18red.htm\n",
      "\n",
      "http://xent.com/mailman/listinfo/fork\n"
     ]
    }
   ],
   "source": [
    "print(ham_emails[76].get_content().strip())"
   ]
  },
  {
   "cell_type": "code",
   "execution_count": 12,
   "metadata": {},
   "outputs": [
    {
     "name": "stdout",
     "output_type": "stream",
     "text": [
      "OWOLABI & ASSOCIATE,\n",
      "FALOMO, IKOYI.\n",
      "LAGOS - NIGERIA.\n",
      "\n",
      "\n",
      "YOUR KIND ATTN.,\n",
      "\n",
      "\n",
      "\n",
      "RE: REQUEST FOR MUTUALLY BENEFITTING ENDEAVOUR.\n",
      "\n",
      "I humbly crave your indulgence in sending you this\n",
      "mail, if the contents does not meet with your personal\n",
      "and business ethics, I apologize in advance.\n",
      "\n",
      "I am Barrister Kola Owolabi( attorney at law), I\n",
      "represent Alhaji Ishmaila Ibrahim Gwarzo’s estates. Alhaji Gwarzo was the chief\n",
      "security advicer of the then military leader of this country(Nigeria) in the\n",
      "person of Late General Sani Abacha who died on the 8th of June 1998. With the\n",
      "advent of a new democratic\n",
      "dispensation in the country under the leadership of\n",
      "Gen. Olusegun Obasanjo (Rtd), my client has come under\n",
      "severe persecution due to the sensitive position he\n",
      "held in the last military regime, presently he is\n",
      "under house arrest restricted only to the confines of\n",
      "his village.\n",
      "\n",
      "The main purpose of this mail is to intimate you of a\n",
      "business proposal that might be of interest to you. My\n",
      "client has informed me of the existence of funds\n",
      "deposited with a security company abroad. This fund\n",
      "came about as part of security votes that were\n",
      "allocated to my client's portfolio during his tenure\n",
      "as chief security adviser to the then president. What\n",
      "happened was that he had part of the funds transferred\n",
      "from the vaults of the Central Bank Of Nigeria to this\n",
      "security outfit with the aim of purchasing arms and ammunitions for the personal\n",
      "security outfit of the\n",
      "then president. But before the purchase could take\n",
      "place the president died. My client has decided to\n",
      "keep this for himself as all his properties has been\n",
      "confisticated by the present regime. But due to his\n",
      "incarceration he cannot travel out and effect the\n",
      "change of possession to his benefit.\n",
      "\n",
      "I have been mandated by my client to source for a\n",
      "foreign partner that can help him facilitate the\n",
      "change of possession. The deposit certificate and the\n",
      "code needed for the execution of this endeavor are in\n",
      "my possession.\n",
      "\n",
      "The funds in question is USD17.6M (Seventeen Million, Six Hundred Thousand\n",
      "United States dollars Only). Should this proposition be of interest to you, you can reach me through my e-mail address so that we can go through the rudiments of this endeavor.\n",
      "\n",
      "I remain most obliged.\n",
      "\n",
      "Barrister Kola Owolabi(JP).\n",
      "Principal Partner. Owolabi & Associates\n",
      "\n",
      "\n",
      "\n",
      "__________________________________________________________________\n",
      "Your favorite stores, helpful shopping tools and great gift ideas. Experience the convenience of buying online with Shop@Netscape! http://shopnow.netscape.com/\n",
      "\n",
      "Get your own FREE, personal Netscape Mail account today at http://webmail.netscape.com/\n"
     ]
    }
   ],
   "source": [
    "print(spam_emails[76].get_content().strip())"
   ]
  },
  {
   "cell_type": "markdown",
   "metadata": {},
   "source": [
    "Some emails are actually multipart, with images and attachments (which can have their own attachments). Let's look at the various types of structure we have:"
   ]
  },
  {
   "cell_type": "code",
   "execution_count": 13,
   "metadata": {},
   "outputs": [],
   "source": [
    "def get_email_structure(email):\n",
    "    if isinstance(email,str):\n",
    "        return email\n",
    "    payload = email.get_payload()\n",
    "    if isinstance(payload, list):\n",
    "        return \"multipart({})\".format(\", \".join([get_email_structure(sub_email) for sub_email in payload]))\n",
    "    else:\n",
    "        return email.get_content_type()"
   ]
  },
  {
   "cell_type": "code",
   "execution_count": 14,
   "metadata": {},
   "outputs": [],
   "source": [
    "from collections import Counter\n",
    "\n",
    "def structures_counter(emails):\n",
    "    structures = Counter()\n",
    "    for email in emails:\n",
    "        structure = get_email_structure(email)\n",
    "        structures[structure] += 1\n",
    "    return structures\n",
    "\n"
   ]
  },
  {
   "cell_type": "code",
   "execution_count": 15,
   "metadata": {},
   "outputs": [
    {
     "data": {
      "text/plain": [
       "[('text/plain', 2408),\n",
       " ('multipart(text/plain, application/pgp-signature)', 66),\n",
       " ('multipart(text/plain, text/html)', 8),\n",
       " ('multipart(text/plain, text/plain)', 4),\n",
       " ('multipart(text/plain)', 3),\n",
       " ('multipart(text/plain, application/octet-stream)', 2),\n",
       " ('multipart(text/plain, text/enriched)', 1),\n",
       " ('multipart(text/plain, application/ms-tnef, text/plain)', 1),\n",
       " ('multipart(multipart(text/plain, text/plain, text/plain), application/pgp-signature)',\n",
       "  1),\n",
       " ('multipart(text/plain, video/mng)', 1),\n",
       " ('multipart(text/plain, multipart(text/plain))', 1),\n",
       " ('multipart(text/plain, application/x-pkcs7-signature)', 1),\n",
       " ('multipart(text/plain, multipart(text/plain, text/plain), text/rfc822-headers)',\n",
       "  1),\n",
       " ('multipart(text/plain, multipart(text/plain, text/plain), multipart(multipart(text/plain, application/x-pkcs7-signature)))',\n",
       "  1),\n",
       " ('multipart(text/plain, application/x-java-applet)', 1)]"
      ]
     },
     "execution_count": 15,
     "metadata": {},
     "output_type": "execute_result"
    }
   ],
   "source": [
    "structures_counter(ham_emails).most_common()"
   ]
  },
  {
   "cell_type": "code",
   "execution_count": null,
   "metadata": {},
   "outputs": [],
   "source": []
  }
 ],
 "metadata": {
  "kernelspec": {
   "display_name": "spam-detector-api-tLsRAW55-py3.12",
   "language": "python",
   "name": "python3"
  },
  "language_info": {
   "codemirror_mode": {
    "name": "ipython",
    "version": 3
   },
   "file_extension": ".py",
   "mimetype": "text/x-python",
   "name": "python",
   "nbconvert_exporter": "python",
   "pygments_lexer": "ipython3",
   "version": "3.12.5"
  }
 },
 "nbformat": 4,
 "nbformat_minor": 2
}
